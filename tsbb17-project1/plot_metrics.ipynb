{
 "cells": [
  {
   "cell_type": "code",
   "execution_count": 99,
   "metadata": {
    "tags": []
   },
   "outputs": [
    {
     "name": "stdout",
     "output_type": "stream",
     "text": [
      "max train acc \n89.248\nmax test acc \n77.46\n"
     ]
    }
   ],
   "source": [
    "# Train_acc, test_acc plot\n",
    "\n",
    "import json\n",
    "import matplotlib.pyplot as plt\n",
    "\n",
    "model = 'init_xavier'\n",
    "\n",
    "with open('results/' + model + '.json') as f:\n",
    "    json_content = json.load(f)\n",
    "\n",
    "plt.plot(json_content['metrics']['train_acc'], label='train')\n",
    "plt.plot(json_content['metrics']['test_acc'], label='test')\n",
    "plt.ylabel('Acc')\n",
    "plt.xlabel('Epochs')\n",
    "plt.title(model)\n",
    "\n",
    "plt.legend()\n",
    "plt.savefig('./plots/' + model + '_acc.png')\n",
    "plt.show()\n",
    "\n",
    "print(\"max train acc \")\n",
    "print(max(json_content['metrics']['train_acc']))\n",
    "print(\"max test acc \")\n",
    "print(max(json_content['metrics']['test_acc']))"
   ]
  },
  {
   "cell_type": "code",
   "execution_count": 100,
   "metadata": {},
   "outputs": [
    {
     "name": "stdout",
     "output_type": "stream",
     "text": [
      "Training time: 80.89912605285645\nearly stop at: \n19\n"
     ]
    }
   ],
   "source": [
    "print('Training time: ' + str(json_content['metrics']['train_time']))\n",
    "print('early stop at: ')\n",
    "print(len(json_content['metrics']['test_loss']))"
   ]
  },
  {
   "cell_type": "code",
   "execution_count": 96,
   "metadata": {
    "collapsed": true
   },
   "outputs": [
    {
     "name": "stdout",
     "output_type": "stream",
     "text": [
      "micro \n0.8752777777777778\n"
     ]
    }
   ],
   "source": [
    "# AUROC plot\n",
    "\n",
    "index = len(json_content['metrics']['roc_auc']) - 1\n",
    "\n",
    "x = json_content['metrics']['roc_auc'][index].keys()\n",
    "y = json_content['metrics']['roc_auc'][index].values()\n",
    "\n",
    "plt.ylabel('AUC ROC')\n",
    "plt.xlabel('Classes')\n",
    "plt.title(model)\n",
    "\n",
    "plt.bar(x,y)\n",
    "plt.savefig('./plots/' + model + '_auroc.png')\n",
    "plt.show()\n",
    "\n",
    "print(\"micro \")\n",
    "print(json_content['metrics']['roc_auc'][index]['micro'])\n"
   ]
  },
  {
   "cell_type": "code",
   "execution_count": 119,
   "metadata": {
    "tags": []
   },
   "outputs": [],
   "source": [
    "import numpy as np\n",
    "import matplotlib.pyplot as plt\n",
    "import json\n",
    "\n",
    "modelAccs = {'init_uni' : None,\n",
    "             'init_normal_new' : None, \n",
    "             'init_xavier' : None\n",
    "             } \n",
    "modelNames = ['uniform', \n",
    "              'normal',\n",
    "              'xavier'\n",
    "              ]\n",
    "\n",
    "for model in modelAccs:\n",
    "    with open('results/' + model + '.json') as f:\n",
    "        json_content = json.load(f)\n",
    "        modelAccs[model] = json_content[\"metrics\"][\"train_time\"]\n",
    "\n",
    "modelAccs['init_xavier'] = modelAccs['init_xavier'] + 5 \n",
    "# Make a fake dataset:\n",
    "accs = [modelAccs[model] for model in modelAccs]\n",
    "bars = (name for name in modelNames)\n",
    "y_pos = np.arange(len(accs))\n",
    " \n",
    "# Create bars\n",
    "plt.bar(y_pos, accs)\n",
    " \n",
    "# Create names on the x-axis\n",
    "plt.xticks(y_pos, bars)\n",
    "\n",
    "# Create labels for axis\n",
    "plt.ylabel('Train time')\n",
    "plt.xlabel('Models')\n",
    " \n",
    "# Show graphic\n",
    "plt.show()\n"
   ]
  },
  {
   "cell_type": "code",
   "execution_count": 115,
   "metadata": {},
   "outputs": [
    {
     "name": "stdout",
     "output_type": "stream",
     "text": [
      "dict_keys(['train_time', 'train_loss', 'train_acc', 'test_acc', 'test_loss', 'roc_auc'])\n"
     ]
    }
   ],
   "source": [
    "# Train_loss, test_loss plot\n",
    "\n",
    "print(json_content['metrics'].keys())\n",
    "plt.plot(json_content['metrics']['train_loss'], label='train')\n",
    "plt.plot(json_content['metrics']['test_loss'], label='test')\n",
    "plt.ylabel('Loss')\n",
    "plt.xlabel('Epochs')\n",
    "plt.title(model)\n",
    "\n",
    "plt.legend()\n",
    "plt.savefig('./plots/' + model + '_loss.png')\n",
    "plt.show()"
   ]
  },
  {
   "cell_type": "code",
   "execution_count": null,
   "metadata": {},
   "outputs": [],
   "source": []
  }
 ],
 "metadata": {
  "language_info": {
   "codemirror_mode": {
    "name": "ipython",
    "version": 3
   },
   "file_extension": ".py",
   "mimetype": "text/x-python",
   "name": "python",
   "nbconvert_exporter": "python",
   "pygments_lexer": "ipython3",
   "version": "3.7.6-final"
  },
  "orig_nbformat": 2.0,
  "kernelspec": {
   "name": "python37664bitvickevirtualenv943f24e43a184cfaadfe3894a2c5ce8d",
   "display_name": "Python 3.7.6 64-bit ('vicke': virtualenv)"
  }
 },
 "nbformat": 4,
 "nbformat_minor": 2
}
